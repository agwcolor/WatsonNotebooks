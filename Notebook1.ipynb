{
    "cells": [
        {
            "cell_type": "markdown",
            "metadata": {},
            "source": "# Description\n\nThis is a test notebook to see if publishing works from Watson."
        },
        {
            "cell_type": "code",
            "execution_count": 1,
            "metadata": {},
            "outputs": [
                {
                    "data": {
                        "text/html": "<div>\n<style scoped>\n    .dataframe tbody tr th:only-of-type {\n        vertical-align: middle;\n    }\n\n    .dataframe tbody tr th {\n        vertical-align: top;\n    }\n\n    .dataframe thead th {\n        text-align: right;\n    }\n</style>\n<table border=\"1\" class=\"dataframe\">\n  <thead>\n    <tr style=\"text-align: right;\">\n      <th></th>\n      <th>id</th>\n      <th>track_name</th>\n      <th>size_bytes</th>\n      <th>currency</th>\n      <th>price</th>\n      <th>rating_count_tot</th>\n      <th>rating_count_ver</th>\n      <th>user_rating</th>\n      <th>user_rating_ver</th>\n      <th>ver</th>\n      <th>cont_rating</th>\n      <th>prime_genre</th>\n      <th>sup_devices.num</th>\n      <th>ipadSc_urls.num</th>\n      <th>lang.num</th>\n      <th>vpp_lic</th>\n    </tr>\n  </thead>\n  <tbody>\n    <tr>\n      <th>0</th>\n      <td>284882215</td>\n      <td>Facebook</td>\n      <td>389879808</td>\n      <td>USD</td>\n      <td>0.0</td>\n      <td>2974676</td>\n      <td>212</td>\n      <td>3.5</td>\n      <td>3.5</td>\n      <td>95.0</td>\n      <td>4+</td>\n      <td>Social Networking</td>\n      <td>37</td>\n      <td>1</td>\n      <td>29</td>\n      <td>1</td>\n    </tr>\n    <tr>\n      <th>1</th>\n      <td>389801252</td>\n      <td>Instagram</td>\n      <td>113954816</td>\n      <td>USD</td>\n      <td>0.0</td>\n      <td>2161558</td>\n      <td>1289</td>\n      <td>4.5</td>\n      <td>4.0</td>\n      <td>10.23</td>\n      <td>12+</td>\n      <td>Photo &amp; Video</td>\n      <td>37</td>\n      <td>0</td>\n      <td>29</td>\n      <td>1</td>\n    </tr>\n    <tr>\n      <th>2</th>\n      <td>529479190</td>\n      <td>Clash of Clans</td>\n      <td>116476928</td>\n      <td>USD</td>\n      <td>0.0</td>\n      <td>2130805</td>\n      <td>579</td>\n      <td>4.5</td>\n      <td>4.5</td>\n      <td>9.24.12</td>\n      <td>9+</td>\n      <td>Games</td>\n      <td>38</td>\n      <td>5</td>\n      <td>18</td>\n      <td>1</td>\n    </tr>\n    <tr>\n      <th>3</th>\n      <td>420009108</td>\n      <td>Temple Run</td>\n      <td>65921024</td>\n      <td>USD</td>\n      <td>0.0</td>\n      <td>1724546</td>\n      <td>3842</td>\n      <td>4.5</td>\n      <td>4.0</td>\n      <td>1.6.2</td>\n      <td>9+</td>\n      <td>Games</td>\n      <td>40</td>\n      <td>5</td>\n      <td>1</td>\n      <td>1</td>\n    </tr>\n    <tr>\n      <th>4</th>\n      <td>284035177</td>\n      <td>Pandora - Music &amp; Radio</td>\n      <td>130242560</td>\n      <td>USD</td>\n      <td>0.0</td>\n      <td>1126879</td>\n      <td>3594</td>\n      <td>4.0</td>\n      <td>4.5</td>\n      <td>8.4.1</td>\n      <td>12+</td>\n      <td>Music</td>\n      <td>37</td>\n      <td>4</td>\n      <td>1</td>\n      <td>1</td>\n    </tr>\n  </tbody>\n</table>\n</div>",
                        "text/plain": "          id               track_name  size_bytes currency  price  \\\n0  284882215                 Facebook   389879808      USD    0.0   \n1  389801252                Instagram   113954816      USD    0.0   \n2  529479190           Clash of Clans   116476928      USD    0.0   \n3  420009108               Temple Run    65921024      USD    0.0   \n4  284035177  Pandora - Music & Radio   130242560      USD    0.0   \n\n   rating_count_tot  rating_count_ver  user_rating  user_rating_ver      ver  \\\n0           2974676               212          3.5              3.5     95.0   \n1           2161558              1289          4.5              4.0    10.23   \n2           2130805               579          4.5              4.5  9.24.12   \n3           1724546              3842          4.5              4.0    1.6.2   \n4           1126879              3594          4.0              4.5    8.4.1   \n\n  cont_rating        prime_genre  sup_devices.num  ipadSc_urls.num  lang.num  \\\n0          4+  Social Networking               37                1        29   \n1         12+      Photo & Video               37                0        29   \n2          9+              Games               38                5        18   \n3          9+              Games               40                5         1   \n4         12+              Music               37                4         1   \n\n   vpp_lic  \n0        1  \n1        1  \n2        1  \n3        1  \n4        1  "
                    },
                    "execution_count": 1,
                    "metadata": {},
                    "output_type": "execute_result"
                }
            ],
            "source": "\nimport types\nimport pandas as pd\nfile = \"AppleStore.csv\"\ndf_data_1 = pd.read_csv(file)\ndf_data_1.head()\n"
        },
        {
            "cell_type": "code",
            "execution_count": null,
            "metadata": {},
            "outputs": [],
            "source": ""
        }
    ],
    "metadata": {
        "kernelspec": {
            "display_name": "Python 3.7",
            "language": "python",
            "name": "python3"
        },
        "language_info": {
            "codemirror_mode": {
                "name": "ipython",
                "version": 3
            },
            "file_extension": ".py",
            "mimetype": "text/x-python",
            "name": "python",
            "nbconvert_exporter": "python",
            "pygments_lexer": "ipython3",
            "version": "3.7.9"
        }
    },
    "nbformat": 4,
    "nbformat_minor": 1
}